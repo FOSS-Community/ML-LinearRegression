{
  "nbformat": 4,
  "nbformat_minor": 0,
  "metadata": {
    "colab": {
      "name": "Untitled4.ipynb",
      "provenance": [],
<<<<<<< HEAD
      "collapsed_sections": [],
      "toc_visible": true
=======
      "toc_visible": true,
      "collapsed_sections": []
>>>>>>> 868f0971acfbfd87c936680bc1e61cd9923209cc
    },
    "kernelspec": {
      "name": "python3",
      "display_name": "Python 3"
    },
    "language_info": {
      "name": "python"
    }
  },
  "cells": [
    {
      "cell_type": "code",
<<<<<<< HEAD
      "execution_count": 18,
      "metadata": {
        "colab": {
          "base_uri": "https://localhost:8080/",
          "height": 206
        },
        "id": "sN6QjAO4_Vjd",
        "outputId": "32c18caa-342c-4ff7-83ce-0de1d075c918"
      },
      "outputs": [
        {
          "output_type": "execute_result",
          "data": {
            "text/plain": [
              "   Taxi_dist  Market_dist  Hospital_dist  Carpet_area  Builtup_area  \\\n",
              "0     9796.0       5250.0        10703.0       1659.0        1961.0   \n",
              "1     8294.0       8186.0        12694.0       1461.0        1752.0   \n",
              "2    11001.0      14399.0        16991.0       1340.0        1609.0   \n",
              "3     8301.0      11188.0        12289.0       1451.0        1748.0   \n",
              "4    10510.0      12629.0        13921.0       1770.0        2111.0   \n",
              "\n",
              "   Parking_type City_type  Rainfall  Price_house  \n",
              "0          Open     CAT B       530      6649000  \n",
              "1  Not Provided     CAT B       210      3982000  \n",
              "2  Not Provided     CAT A       720      5401000  \n",
              "3       Covered     CAT B       620      5373000  \n",
              "4  Not Provided     CAT B       450      4662000  "
            ],
            "text/html": [
              "\n",
              "  <div id=\"df-2780ce57-128d-4126-b446-5bfa10f38a61\">\n",
              "    <div class=\"colab-df-container\">\n",
              "      <div>\n",
              "<style scoped>\n",
              "    .dataframe tbody tr th:only-of-type {\n",
              "        vertical-align: middle;\n",
              "    }\n",
              "\n",
              "    .dataframe tbody tr th {\n",
              "        vertical-align: top;\n",
              "    }\n",
              "\n",
              "    .dataframe thead th {\n",
              "        text-align: right;\n",
              "    }\n",
              "</style>\n",
              "<table border=\"1\" class=\"dataframe\">\n",
              "  <thead>\n",
              "    <tr style=\"text-align: right;\">\n",
              "      <th></th>\n",
              "      <th>Taxi_dist</th>\n",
              "      <th>Market_dist</th>\n",
              "      <th>Hospital_dist</th>\n",
              "      <th>Carpet_area</th>\n",
              "      <th>Builtup_area</th>\n",
              "      <th>Parking_type</th>\n",
              "      <th>City_type</th>\n",
              "      <th>Rainfall</th>\n",
              "      <th>Price_house</th>\n",
              "    </tr>\n",
              "  </thead>\n",
              "  <tbody>\n",
              "    <tr>\n",
              "      <th>0</th>\n",
              "      <td>9796.0</td>\n",
              "      <td>5250.0</td>\n",
              "      <td>10703.0</td>\n",
              "      <td>1659.0</td>\n",
              "      <td>1961.0</td>\n",
              "      <td>Open</td>\n",
              "      <td>CAT B</td>\n",
              "      <td>530</td>\n",
              "      <td>6649000</td>\n",
              "    </tr>\n",
              "    <tr>\n",
              "      <th>1</th>\n",
              "      <td>8294.0</td>\n",
              "      <td>8186.0</td>\n",
              "      <td>12694.0</td>\n",
              "      <td>1461.0</td>\n",
              "      <td>1752.0</td>\n",
              "      <td>Not Provided</td>\n",
              "      <td>CAT B</td>\n",
              "      <td>210</td>\n",
              "      <td>3982000</td>\n",
              "    </tr>\n",
              "    <tr>\n",
              "      <th>2</th>\n",
              "      <td>11001.0</td>\n",
              "      <td>14399.0</td>\n",
              "      <td>16991.0</td>\n",
              "      <td>1340.0</td>\n",
              "      <td>1609.0</td>\n",
              "      <td>Not Provided</td>\n",
              "      <td>CAT A</td>\n",
              "      <td>720</td>\n",
              "      <td>5401000</td>\n",
              "    </tr>\n",
              "    <tr>\n",
              "      <th>3</th>\n",
              "      <td>8301.0</td>\n",
              "      <td>11188.0</td>\n",
              "      <td>12289.0</td>\n",
              "      <td>1451.0</td>\n",
              "      <td>1748.0</td>\n",
              "      <td>Covered</td>\n",
              "      <td>CAT B</td>\n",
              "      <td>620</td>\n",
              "      <td>5373000</td>\n",
              "    </tr>\n",
              "    <tr>\n",
              "      <th>4</th>\n",
              "      <td>10510.0</td>\n",
              "      <td>12629.0</td>\n",
              "      <td>13921.0</td>\n",
              "      <td>1770.0</td>\n",
              "      <td>2111.0</td>\n",
              "      <td>Not Provided</td>\n",
              "      <td>CAT B</td>\n",
              "      <td>450</td>\n",
              "      <td>4662000</td>\n",
              "    </tr>\n",
              "  </tbody>\n",
              "</table>\n",
              "</div>\n",
              "      <button class=\"colab-df-convert\" onclick=\"convertToInteractive('df-2780ce57-128d-4126-b446-5bfa10f38a61')\"\n",
              "              title=\"Convert this dataframe to an interactive table.\"\n",
              "              style=\"display:none;\">\n",
              "        \n",
              "  <svg xmlns=\"http://www.w3.org/2000/svg\" height=\"24px\"viewBox=\"0 0 24 24\"\n",
              "       width=\"24px\">\n",
              "    <path d=\"M0 0h24v24H0V0z\" fill=\"none\"/>\n",
              "    <path d=\"M18.56 5.44l.94 2.06.94-2.06 2.06-.94-2.06-.94-.94-2.06-.94 2.06-2.06.94zm-11 1L8.5 8.5l.94-2.06 2.06-.94-2.06-.94L8.5 2.5l-.94 2.06-2.06.94zm10 10l.94 2.06.94-2.06 2.06-.94-2.06-.94-.94-2.06-.94 2.06-2.06.94z\"/><path d=\"M17.41 7.96l-1.37-1.37c-.4-.4-.92-.59-1.43-.59-.52 0-1.04.2-1.43.59L10.3 9.45l-7.72 7.72c-.78.78-.78 2.05 0 2.83L4 21.41c.39.39.9.59 1.41.59.51 0 1.02-.2 1.41-.59l7.78-7.78 2.81-2.81c.8-.78.8-2.07 0-2.86zM5.41 20L4 18.59l7.72-7.72 1.47 1.35L5.41 20z\"/>\n",
              "  </svg>\n",
              "      </button>\n",
              "      \n",
              "  <style>\n",
              "    .colab-df-container {\n",
              "      display:flex;\n",
              "      flex-wrap:wrap;\n",
              "      gap: 12px;\n",
              "    }\n",
              "\n",
              "    .colab-df-convert {\n",
              "      background-color: #E8F0FE;\n",
              "      border: none;\n",
              "      border-radius: 50%;\n",
              "      cursor: pointer;\n",
              "      display: none;\n",
              "      fill: #1967D2;\n",
              "      height: 32px;\n",
              "      padding: 0 0 0 0;\n",
              "      width: 32px;\n",
              "    }\n",
              "\n",
              "    .colab-df-convert:hover {\n",
              "      background-color: #E2EBFA;\n",
              "      box-shadow: 0px 1px 2px rgba(60, 64, 67, 0.3), 0px 1px 3px 1px rgba(60, 64, 67, 0.15);\n",
              "      fill: #174EA6;\n",
              "    }\n",
              "\n",
              "    [theme=dark] .colab-df-convert {\n",
              "      background-color: #3B4455;\n",
              "      fill: #D2E3FC;\n",
              "    }\n",
              "\n",
              "    [theme=dark] .colab-df-convert:hover {\n",
              "      background-color: #434B5C;\n",
              "      box-shadow: 0px 1px 3px 1px rgba(0, 0, 0, 0.15);\n",
              "      filter: drop-shadow(0px 1px 2px rgba(0, 0, 0, 0.3));\n",
              "      fill: #FFFFFF;\n",
              "    }\n",
              "  </style>\n",
              "\n",
              "      <script>\n",
              "        const buttonEl =\n",
              "          document.querySelector('#df-2780ce57-128d-4126-b446-5bfa10f38a61 button.colab-df-convert');\n",
              "        buttonEl.style.display =\n",
              "          google.colab.kernel.accessAllowed ? 'block' : 'none';\n",
              "\n",
              "        async function convertToInteractive(key) {\n",
              "          const element = document.querySelector('#df-2780ce57-128d-4126-b446-5bfa10f38a61');\n",
              "          const dataTable =\n",
              "            await google.colab.kernel.invokeFunction('convertToInteractive',\n",
              "                                                     [key], {});\n",
              "          if (!dataTable) return;\n",
              "\n",
              "          const docLinkHtml = 'Like what you see? Visit the ' +\n",
              "            '<a target=\"_blank\" href=https://colab.research.google.com/notebooks/data_table.ipynb>data table notebook</a>'\n",
              "            + ' to learn more about interactive tables.';\n",
              "          element.innerHTML = '';\n",
              "          dataTable['output_type'] = 'display_data';\n",
              "          await google.colab.output.renderOutput(dataTable, element);\n",
              "          const docLink = document.createElement('div');\n",
              "          docLink.innerHTML = docLinkHtml;\n",
              "          element.appendChild(docLink);\n",
              "        }\n",
              "      </script>\n",
              "    </div>\n",
              "  </div>\n",
              "  "
            ]
          },
          "metadata": {},
          "execution_count": 18
        }
      ],
      "source": [
        "import pandas as pd\n",
        "import matplotlib.pyplot as plt\n",
        "data=pd.read_csv('/Data.csv')\n",
        "data.head()"
=======
      "execution_count": null,
      "metadata": {
        "id": "BjLTMr5sKpFh"
      },
      "outputs": [],
      "source": [
        "%matplotlib inline\n",
        "import matplotlib.pyplot as plt\n",
        "import seaborn as sns; sns.set()\n",
        "import numpy as np\n",
        "import pandas as pd\n",
        "import io"
>>>>>>> 868f0971acfbfd87c936680bc1e61cd9923209cc
      ]
    },
    {
      "cell_type": "code",
      "source": [
<<<<<<< HEAD
        "data.shape"
=======
        "from google.colab import files\n",
        "uploaded = files.upload()"
      ],
      "metadata": {
        "colab": {
          "resources": {
            "http://localhost:8080/nbextensions/google.colab/files.js": {
              "data": "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",
              "ok": true,
              "headers": [
                [
                  "content-type",
                  "application/javascript"
                ]
              ],
              "status": 200,
              "status_text": ""
            }
          },
          "base_uri": "https://localhost:8080/",
          "height": 73
        },
        "id": "anKM0JxJKrba",
        "outputId": "f348d904-023b-44c8-fe7f-b7beeacbf986"
      },
      "execution_count": null,
      "outputs": [
        {
          "output_type": "display_data",
          "data": {
            "text/plain": [
              "<IPython.core.display.HTML object>"
            ],
            "text/html": [
              "\n",
              "     <input type=\"file\" id=\"files-57a9d15e-5178-4392-9142-02f5b81ced76\" name=\"files[]\" multiple disabled\n",
              "        style=\"border:none\" />\n",
              "     <output id=\"result-57a9d15e-5178-4392-9142-02f5b81ced76\">\n",
              "      Upload widget is only available when the cell has been executed in the\n",
              "      current browser session. Please rerun this cell to enable.\n",
              "      </output>\n",
              "      <script src=\"/nbextensions/google.colab/files.js\"></script> "
            ]
          },
          "metadata": {}
        },
        {
          "output_type": "stream",
          "name": "stdout",
          "text": [
            "Saving 1.01. Simple linear regression.csv to 1.01. Simple linear regression.csv\n"
          ]
        }
      ]
    },
    {
      "cell_type": "code",
      "source": [
        "\n",
        "data = pd.read_csv(io.BytesIO(uploaded['1.01. Simple linear regression.csv']))\n",
        "print(data)"
>>>>>>> 868f0971acfbfd87c936680bc1e61cd9923209cc
      ],
      "metadata": {
        "colab": {
          "base_uri": "https://localhost:8080/"
        },
<<<<<<< HEAD
        "id": "3JcBLQ8BDedP",
        "outputId": "a76a7477-e496-4818-d99f-a843ebafcd7c"
      },
      "execution_count": 19,
      "outputs": [
        {
          "output_type": "execute_result",
          "data": {
            "text/plain": [
              "(932, 9)"
            ]
          },
          "metadata": {},
          "execution_count": 19
=======
        "id": "unNkD1IVLJsI",
        "outputId": "7eba894b-b285-4565-9638-10bb84f499b8"
      },
      "execution_count": null,
      "outputs": [
        {
          "output_type": "stream",
          "name": "stdout",
          "text": [
            "     SAT   GPA\n",
            "0   1714  2.40\n",
            "1   1664  2.52\n",
            "2   1760  2.54\n",
            "3   1685  2.74\n",
            "4   1693  2.83\n",
            "..   ...   ...\n",
            "79  1936  3.71\n",
            "80  1810  3.71\n",
            "81  1987  3.73\n",
            "82  1962  3.76\n",
            "83  2050  3.81\n",
            "\n",
            "[84 rows x 2 columns]\n"
          ]
>>>>>>> 868f0971acfbfd87c936680bc1e61cd9923209cc
        }
      ]
    },
    {
      "cell_type": "code",
      "source": [
<<<<<<< HEAD
        "data.describe()"
      ],
      "metadata": {
        "colab": {
          "base_uri": "https://localhost:8080/",
          "height": 300
        },
        "id": "Lwju2tsyDlhn",
        "outputId": "9f8e9543-6e52-463f-b33a-6e32233e20c4"
      },
      "execution_count": 20,
      "outputs": [
        {
          "output_type": "execute_result",
          "data": {
            "text/plain": [
              "          Taxi_dist   Market_dist  Hospital_dist   Carpet_area  Builtup_area  \\\n",
              "count    919.000000    919.000000     931.000000    924.000000    917.000000   \n",
              "mean    8229.727965  11018.752992   13072.092374   1511.862554   1794.924755   \n",
              "std     2561.985008   2543.920590    2586.456161    790.969660    468.159457   \n",
              "min      146.000000   1666.000000    3227.000000    775.000000    932.000000   \n",
              "25%     6476.000000   9354.500000   11301.500000   1318.000000   1583.000000   \n",
              "50%     8230.000000  11161.000000   13163.000000   1480.500000   1774.000000   \n",
              "75%     9937.000000  12670.500000   14817.000000   1655.000000   1982.000000   \n",
              "max    20662.000000  20945.000000   23294.000000  24300.000000  12730.000000   \n",
              "\n",
              "          Rainfall   Price_house  \n",
              "count   932.000000  9.320000e+02  \n",
              "mean    785.579399  6.084695e+06  \n",
              "std     265.546853  5.025364e+06  \n",
              "min    -110.000000  3.000000e+04  \n",
              "25%     600.000000  4.658000e+06  \n",
              "50%     780.000000  5.866000e+06  \n",
              "75%     970.000000  7.187250e+06  \n",
              "max    1560.000000  1.500000e+08  "
            ],
            "text/html": [
              "\n",
              "  <div id=\"df-76a7a38c-f69d-4117-aefd-c35043320f14\">\n",
              "    <div class=\"colab-df-container\">\n",
              "      <div>\n",
              "<style scoped>\n",
              "    .dataframe tbody tr th:only-of-type {\n",
              "        vertical-align: middle;\n",
              "    }\n",
              "\n",
              "    .dataframe tbody tr th {\n",
              "        vertical-align: top;\n",
              "    }\n",
              "\n",
              "    .dataframe thead th {\n",
              "        text-align: right;\n",
              "    }\n",
              "</style>\n",
              "<table border=\"1\" class=\"dataframe\">\n",
              "  <thead>\n",
              "    <tr style=\"text-align: right;\">\n",
              "      <th></th>\n",
              "      <th>Taxi_dist</th>\n",
              "      <th>Market_dist</th>\n",
              "      <th>Hospital_dist</th>\n",
              "      <th>Carpet_area</th>\n",
              "      <th>Builtup_area</th>\n",
              "      <th>Rainfall</th>\n",
              "      <th>Price_house</th>\n",
              "    </tr>\n",
              "  </thead>\n",
              "  <tbody>\n",
              "    <tr>\n",
              "      <th>count</th>\n",
              "      <td>919.000000</td>\n",
              "      <td>919.000000</td>\n",
              "      <td>931.000000</td>\n",
              "      <td>924.000000</td>\n",
              "      <td>917.000000</td>\n",
              "      <td>932.000000</td>\n",
              "      <td>9.320000e+02</td>\n",
              "    </tr>\n",
              "    <tr>\n",
              "      <th>mean</th>\n",
              "      <td>8229.727965</td>\n",
              "      <td>11018.752992</td>\n",
              "      <td>13072.092374</td>\n",
              "      <td>1511.862554</td>\n",
              "      <td>1794.924755</td>\n",
              "      <td>785.579399</td>\n",
              "      <td>6.084695e+06</td>\n",
              "    </tr>\n",
              "    <tr>\n",
              "      <th>std</th>\n",
              "      <td>2561.985008</td>\n",
              "      <td>2543.920590</td>\n",
              "      <td>2586.456161</td>\n",
              "      <td>790.969660</td>\n",
              "      <td>468.159457</td>\n",
              "      <td>265.546853</td>\n",
              "      <td>5.025364e+06</td>\n",
              "    </tr>\n",
              "    <tr>\n",
              "      <th>min</th>\n",
              "      <td>146.000000</td>\n",
              "      <td>1666.000000</td>\n",
              "      <td>3227.000000</td>\n",
              "      <td>775.000000</td>\n",
              "      <td>932.000000</td>\n",
              "      <td>-110.000000</td>\n",
              "      <td>3.000000e+04</td>\n",
              "    </tr>\n",
              "    <tr>\n",
              "      <th>25%</th>\n",
              "      <td>6476.000000</td>\n",
              "      <td>9354.500000</td>\n",
              "      <td>11301.500000</td>\n",
              "      <td>1318.000000</td>\n",
              "      <td>1583.000000</td>\n",
              "      <td>600.000000</td>\n",
              "      <td>4.658000e+06</td>\n",
              "    </tr>\n",
              "    <tr>\n",
              "      <th>50%</th>\n",
              "      <td>8230.000000</td>\n",
              "      <td>11161.000000</td>\n",
              "      <td>13163.000000</td>\n",
              "      <td>1480.500000</td>\n",
              "      <td>1774.000000</td>\n",
              "      <td>780.000000</td>\n",
              "      <td>5.866000e+06</td>\n",
              "    </tr>\n",
              "    <tr>\n",
              "      <th>75%</th>\n",
              "      <td>9937.000000</td>\n",
              "      <td>12670.500000</td>\n",
              "      <td>14817.000000</td>\n",
              "      <td>1655.000000</td>\n",
              "      <td>1982.000000</td>\n",
              "      <td>970.000000</td>\n",
              "      <td>7.187250e+06</td>\n",
              "    </tr>\n",
              "    <tr>\n",
              "      <th>max</th>\n",
              "      <td>20662.000000</td>\n",
              "      <td>20945.000000</td>\n",
              "      <td>23294.000000</td>\n",
              "      <td>24300.000000</td>\n",
              "      <td>12730.000000</td>\n",
              "      <td>1560.000000</td>\n",
              "      <td>1.500000e+08</td>\n",
              "    </tr>\n",
              "  </tbody>\n",
              "</table>\n",
              "</div>\n",
              "      <button class=\"colab-df-convert\" onclick=\"convertToInteractive('df-76a7a38c-f69d-4117-aefd-c35043320f14')\"\n",
              "              title=\"Convert this dataframe to an interactive table.\"\n",
              "              style=\"display:none;\">\n",
              "        \n",
              "  <svg xmlns=\"http://www.w3.org/2000/svg\" height=\"24px\"viewBox=\"0 0 24 24\"\n",
              "       width=\"24px\">\n",
              "    <path d=\"M0 0h24v24H0V0z\" fill=\"none\"/>\n",
              "    <path d=\"M18.56 5.44l.94 2.06.94-2.06 2.06-.94-2.06-.94-.94-2.06-.94 2.06-2.06.94zm-11 1L8.5 8.5l.94-2.06 2.06-.94-2.06-.94L8.5 2.5l-.94 2.06-2.06.94zm10 10l.94 2.06.94-2.06 2.06-.94-2.06-.94-.94-2.06-.94 2.06-2.06.94z\"/><path d=\"M17.41 7.96l-1.37-1.37c-.4-.4-.92-.59-1.43-.59-.52 0-1.04.2-1.43.59L10.3 9.45l-7.72 7.72c-.78.78-.78 2.05 0 2.83L4 21.41c.39.39.9.59 1.41.59.51 0 1.02-.2 1.41-.59l7.78-7.78 2.81-2.81c.8-.78.8-2.07 0-2.86zM5.41 20L4 18.59l7.72-7.72 1.47 1.35L5.41 20z\"/>\n",
              "  </svg>\n",
              "      </button>\n",
              "      \n",
              "  <style>\n",
              "    .colab-df-container {\n",
              "      display:flex;\n",
              "      flex-wrap:wrap;\n",
              "      gap: 12px;\n",
              "    }\n",
              "\n",
              "    .colab-df-convert {\n",
              "      background-color: #E8F0FE;\n",
              "      border: none;\n",
              "      border-radius: 50%;\n",
              "      cursor: pointer;\n",
              "      display: none;\n",
              "      fill: #1967D2;\n",
              "      height: 32px;\n",
              "      padding: 0 0 0 0;\n",
              "      width: 32px;\n",
              "    }\n",
              "\n",
              "    .colab-df-convert:hover {\n",
              "      background-color: #E2EBFA;\n",
              "      box-shadow: 0px 1px 2px rgba(60, 64, 67, 0.3), 0px 1px 3px 1px rgba(60, 64, 67, 0.15);\n",
              "      fill: #174EA6;\n",
              "    }\n",
              "\n",
              "    [theme=dark] .colab-df-convert {\n",
              "      background-color: #3B4455;\n",
              "      fill: #D2E3FC;\n",
              "    }\n",
              "\n",
              "    [theme=dark] .colab-df-convert:hover {\n",
              "      background-color: #434B5C;\n",
              "      box-shadow: 0px 1px 3px 1px rgba(0, 0, 0, 0.15);\n",
              "      filter: drop-shadow(0px 1px 2px rgba(0, 0, 0, 0.3));\n",
              "      fill: #FFFFFF;\n",
              "    }\n",
              "  </style>\n",
              "\n",
              "      <script>\n",
              "        const buttonEl =\n",
              "          document.querySelector('#df-76a7a38c-f69d-4117-aefd-c35043320f14 button.colab-df-convert');\n",
              "        buttonEl.style.display =\n",
              "          google.colab.kernel.accessAllowed ? 'block' : 'none';\n",
              "\n",
              "        async function convertToInteractive(key) {\n",
              "          const element = document.querySelector('#df-76a7a38c-f69d-4117-aefd-c35043320f14');\n",
              "          const dataTable =\n",
              "            await google.colab.kernel.invokeFunction('convertToInteractive',\n",
              "                                                     [key], {});\n",
              "          if (!dataTable) return;\n",
              "\n",
              "          const docLinkHtml = 'Like what you see? Visit the ' +\n",
              "            '<a target=\"_blank\" href=https://colab.research.google.com/notebooks/data_table.ipynb>data table notebook</a>'\n",
              "            + ' to learn more about interactive tables.';\n",
              "          element.innerHTML = '';\n",
              "          dataTable['output_type'] = 'display_data';\n",
              "          await google.colab.output.renderOutput(dataTable, element);\n",
              "          const docLink = document.createElement('div');\n",
              "          docLink.innerHTML = docLinkHtml;\n",
              "          element.appendChild(docLink);\n",
              "        }\n",
              "      </script>\n",
              "    </div>\n",
              "  </div>\n",
              "  "
            ]
          },
          "metadata": {},
          "execution_count": 20
        }
      ]
    },
    {
      "cell_type": "code",
      "source": [
        "data.corr()"
      ],
      "metadata": {
        "colab": {
          "base_uri": "https://localhost:8080/",
          "height": 269
        },
        "id": "k8ckC2L4D4Ql",
        "outputId": "3629d31a-9d15-4944-b777-c0e59f47b786"
      },
      "execution_count": 21,
      "outputs": [
        {
          "output_type": "execute_result",
          "data": {
            "text/plain": [
              "               Taxi_dist  Market_dist  Hospital_dist  Carpet_area  \\\n",
              "Taxi_dist       1.000000     0.460971       0.800718     0.155773   \n",
              "Market_dist     0.460971     1.000000       0.626503     0.116954   \n",
              "Hospital_dist   0.800718     0.626503       1.000000     0.126770   \n",
              "Carpet_area     0.155773     0.116954       0.126770     1.000000   \n",
              "Builtup_area    0.128825     0.087144       0.106497     0.932075   \n",
              "Rainfall        0.027046     0.074264       0.055788     0.026294   \n",
              "Price_house     0.187540     0.161293       0.166093     0.903321   \n",
              "\n",
              "               Builtup_area  Rainfall  Price_house  \n",
              "Taxi_dist          0.128825  0.027046     0.187540  \n",
              "Market_dist        0.087144  0.074264     0.161293  \n",
              "Hospital_dist      0.106497  0.055788     0.166093  \n",
              "Carpet_area        0.932075  0.026294     0.903321  \n",
              "Builtup_area       1.000000  0.006281     0.746689  \n",
              "Rainfall           0.006281  1.000000     0.044552  \n",
              "Price_house        0.746689  0.044552     1.000000  "
            ],
            "text/html": [
              "\n",
              "  <div id=\"df-c091da14-3370-48da-94f5-02bb88b7005c\">\n",
              "    <div class=\"colab-df-container\">\n",
              "      <div>\n",
              "<style scoped>\n",
              "    .dataframe tbody tr th:only-of-type {\n",
              "        vertical-align: middle;\n",
              "    }\n",
              "\n",
              "    .dataframe tbody tr th {\n",
              "        vertical-align: top;\n",
              "    }\n",
              "\n",
              "    .dataframe thead th {\n",
              "        text-align: right;\n",
              "    }\n",
              "</style>\n",
              "<table border=\"1\" class=\"dataframe\">\n",
              "  <thead>\n",
              "    <tr style=\"text-align: right;\">\n",
              "      <th></th>\n",
              "      <th>Taxi_dist</th>\n",
              "      <th>Market_dist</th>\n",
              "      <th>Hospital_dist</th>\n",
              "      <th>Carpet_area</th>\n",
              "      <th>Builtup_area</th>\n",
              "      <th>Rainfall</th>\n",
              "      <th>Price_house</th>\n",
              "    </tr>\n",
              "  </thead>\n",
              "  <tbody>\n",
              "    <tr>\n",
              "      <th>Taxi_dist</th>\n",
              "      <td>1.000000</td>\n",
              "      <td>0.460971</td>\n",
              "      <td>0.800718</td>\n",
              "      <td>0.155773</td>\n",
              "      <td>0.128825</td>\n",
              "      <td>0.027046</td>\n",
              "      <td>0.187540</td>\n",
              "    </tr>\n",
              "    <tr>\n",
              "      <th>Market_dist</th>\n",
              "      <td>0.460971</td>\n",
              "      <td>1.000000</td>\n",
              "      <td>0.626503</td>\n",
              "      <td>0.116954</td>\n",
              "      <td>0.087144</td>\n",
              "      <td>0.074264</td>\n",
              "      <td>0.161293</td>\n",
              "    </tr>\n",
              "    <tr>\n",
              "      <th>Hospital_dist</th>\n",
              "      <td>0.800718</td>\n",
              "      <td>0.626503</td>\n",
              "      <td>1.000000</td>\n",
              "      <td>0.126770</td>\n",
              "      <td>0.106497</td>\n",
              "      <td>0.055788</td>\n",
              "      <td>0.166093</td>\n",
              "    </tr>\n",
              "    <tr>\n",
              "      <th>Carpet_area</th>\n",
              "      <td>0.155773</td>\n",
              "      <td>0.116954</td>\n",
              "      <td>0.126770</td>\n",
              "      <td>1.000000</td>\n",
              "      <td>0.932075</td>\n",
              "      <td>0.026294</td>\n",
              "      <td>0.903321</td>\n",
              "    </tr>\n",
              "    <tr>\n",
              "      <th>Builtup_area</th>\n",
              "      <td>0.128825</td>\n",
              "      <td>0.087144</td>\n",
              "      <td>0.106497</td>\n",
              "      <td>0.932075</td>\n",
              "      <td>1.000000</td>\n",
              "      <td>0.006281</td>\n",
              "      <td>0.746689</td>\n",
              "    </tr>\n",
              "    <tr>\n",
              "      <th>Rainfall</th>\n",
              "      <td>0.027046</td>\n",
              "      <td>0.074264</td>\n",
              "      <td>0.055788</td>\n",
              "      <td>0.026294</td>\n",
              "      <td>0.006281</td>\n",
              "      <td>1.000000</td>\n",
              "      <td>0.044552</td>\n",
              "    </tr>\n",
              "    <tr>\n",
              "      <th>Price_house</th>\n",
              "      <td>0.187540</td>\n",
              "      <td>0.161293</td>\n",
              "      <td>0.166093</td>\n",
              "      <td>0.903321</td>\n",
              "      <td>0.746689</td>\n",
              "      <td>0.044552</td>\n",
              "      <td>1.000000</td>\n",
              "    </tr>\n",
              "  </tbody>\n",
              "</table>\n",
              "</div>\n",
              "      <button class=\"colab-df-convert\" onclick=\"convertToInteractive('df-c091da14-3370-48da-94f5-02bb88b7005c')\"\n",
              "              title=\"Convert this dataframe to an interactive table.\"\n",
              "              style=\"display:none;\">\n",
              "        \n",
              "  <svg xmlns=\"http://www.w3.org/2000/svg\" height=\"24px\"viewBox=\"0 0 24 24\"\n",
              "       width=\"24px\">\n",
              "    <path d=\"M0 0h24v24H0V0z\" fill=\"none\"/>\n",
              "    <path d=\"M18.56 5.44l.94 2.06.94-2.06 2.06-.94-2.06-.94-.94-2.06-.94 2.06-2.06.94zm-11 1L8.5 8.5l.94-2.06 2.06-.94-2.06-.94L8.5 2.5l-.94 2.06-2.06.94zm10 10l.94 2.06.94-2.06 2.06-.94-2.06-.94-.94-2.06-.94 2.06-2.06.94z\"/><path d=\"M17.41 7.96l-1.37-1.37c-.4-.4-.92-.59-1.43-.59-.52 0-1.04.2-1.43.59L10.3 9.45l-7.72 7.72c-.78.78-.78 2.05 0 2.83L4 21.41c.39.39.9.59 1.41.59.51 0 1.02-.2 1.41-.59l7.78-7.78 2.81-2.81c.8-.78.8-2.07 0-2.86zM5.41 20L4 18.59l7.72-7.72 1.47 1.35L5.41 20z\"/>\n",
              "  </svg>\n",
              "      </button>\n",
              "      \n",
              "  <style>\n",
              "    .colab-df-container {\n",
              "      display:flex;\n",
              "      flex-wrap:wrap;\n",
              "      gap: 12px;\n",
              "    }\n",
              "\n",
              "    .colab-df-convert {\n",
              "      background-color: #E8F0FE;\n",
              "      border: none;\n",
              "      border-radius: 50%;\n",
              "      cursor: pointer;\n",
              "      display: none;\n",
              "      fill: #1967D2;\n",
              "      height: 32px;\n",
              "      padding: 0 0 0 0;\n",
              "      width: 32px;\n",
              "    }\n",
              "\n",
              "    .colab-df-convert:hover {\n",
              "      background-color: #E2EBFA;\n",
              "      box-shadow: 0px 1px 2px rgba(60, 64, 67, 0.3), 0px 1px 3px 1px rgba(60, 64, 67, 0.15);\n",
              "      fill: #174EA6;\n",
              "    }\n",
              "\n",
              "    [theme=dark] .colab-df-convert {\n",
              "      background-color: #3B4455;\n",
              "      fill: #D2E3FC;\n",
              "    }\n",
              "\n",
              "    [theme=dark] .colab-df-convert:hover {\n",
              "      background-color: #434B5C;\n",
              "      box-shadow: 0px 1px 3px 1px rgba(0, 0, 0, 0.15);\n",
              "      filter: drop-shadow(0px 1px 2px rgba(0, 0, 0, 0.3));\n",
              "      fill: #FFFFFF;\n",
              "    }\n",
              "  </style>\n",
              "\n",
              "      <script>\n",
              "        const buttonEl =\n",
              "          document.querySelector('#df-c091da14-3370-48da-94f5-02bb88b7005c button.colab-df-convert');\n",
              "        buttonEl.style.display =\n",
              "          google.colab.kernel.accessAllowed ? 'block' : 'none';\n",
              "\n",
              "        async function convertToInteractive(key) {\n",
              "          const element = document.querySelector('#df-c091da14-3370-48da-94f5-02bb88b7005c');\n",
              "          const dataTable =\n",
              "            await google.colab.kernel.invokeFunction('convertToInteractive',\n",
              "                                                     [key], {});\n",
              "          if (!dataTable) return;\n",
              "\n",
              "          const docLinkHtml = 'Like what you see? Visit the ' +\n",
              "            '<a target=\"_blank\" href=https://colab.research.google.com/notebooks/data_table.ipynb>data table notebook</a>'\n",
              "            + ' to learn more about interactive tables.';\n",
              "          element.innerHTML = '';\n",
              "          dataTable['output_type'] = 'display_data';\n",
              "          await google.colab.output.renderOutput(dataTable, element);\n",
              "          const docLink = document.createElement('div');\n",
              "          docLink.innerHTML = docLinkHtml;\n",
              "          element.appendChild(docLink);\n",
              "        }\n",
              "      </script>\n",
              "    </div>\n",
              "  </div>\n",
              "  "
            ]
          },
          "metadata": {},
          "execution_count": 21
        }
      ]
    },
    {
      "cell_type": "code",
      "source": [
        "import matplotlib.pyplot as plt\n",
        "import seaborn as sns\n",
        "plt.figure(figsize=(7,7))\n",
        "sns.heatmap(data.corr(), annot=True, fmt='.0%')"
      ],
      "metadata": {
        "colab": {
          "base_uri": "https://localhost:8080/",
          "height": 504
        },
        "id": "mqSugnqBEIgU",
        "outputId": "6b39ba1a-83ea-432c-a1ba-65b4ac150824"
      },
      "execution_count": 25,
      "outputs": [
        {
          "output_type": "execute_result",
          "data": {
            "text/plain": [
              "<matplotlib.axes._subplots.AxesSubplot at 0x7f734be70e50>"
            ]
          },
          "metadata": {},
          "execution_count": 25
        },
        {
          "output_type": "display_data",
          "data": {
            "text/plain": [
              "<Figure size 504x504 with 2 Axes>"
            ],
            "image/png": "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\n"
          },
          "metadata": {
            "needs_background": "light"
          }
        }
      ]
    },
    {
      "cell_type": "code",
      "source": [
        "%matplotlib inline\n",
        "import numpy as np\n",
        "import matplotlib.pyplot as plt\n",
        "r = np.random.RandomState(1)\n",
        "x = 23 * r.rand(60)\n",
        "y = 2 * x + r.randn(60)\n",
        "plt.scatter(x, y);\n"
      ],
      "metadata": {
        "colab": {
          "base_uri": "https://localhost:8080/",
          "height": 265
        },
        "id": "hgxiImYsK8vm",
        "outputId": "661b386f-c003-456f-8a7b-548d034dd64e"
      },
      "execution_count": 28,
=======
        "x = data['SAT'].values\n",
        "y = data['GPA'].values\n",
        "plt.scatter(x, y);"
      ],
      "metadata": {
        "id": "heLbtBEVLic0",
        "colab": {
          "base_uri": "https://localhost:8080/",
          "height": 268
        },
        "outputId": "ce04e773-4824-4e38-e327-91b929916d56"
      },
      "execution_count": null,
>>>>>>> 868f0971acfbfd87c936680bc1e61cd9923209cc
      "outputs": [
        {
          "output_type": "display_data",
          "data": {
            "text/plain": [
              "<Figure size 432x288 with 1 Axes>"
            ],
<<<<<<< HEAD
            "image/png": "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\n"
          },
          "metadata": {
            "needs_background": "light"
          }
=======
            "image/png": "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\n"
          },
          "metadata": {}
        }
      ]
    },
    {
      "cell_type": "code",
      "source": [
        "from sklearn.linear_model import LinearRegression\n",
        "model = LinearRegression(fit_intercept=True)\n",
        "\n",
        "model.fit(x[:, np.newaxis], y)\n",
        "\n",
        "xfit = np.linspace(1500, 2100, 3000)\n",
        "yfit = model.predict(xfit[:, np.newaxis])\n",
        "\n",
        "plt.scatter(x, y)\n",
        "plt.plot(xfit, yfit);"
      ],
      "metadata": {
        "colab": {
          "base_uri": "https://localhost:8080/",
          "height": 268
        },
        "id": "XJWioDjxMISY",
        "outputId": "25007287-3826-4d3b-8eba-fe251149519d"
      },
      "execution_count": null,
      "outputs": [
        {
          "output_type": "display_data",
          "data": {
            "text/plain": [
              "<Figure size 432x288 with 1 Axes>"
            ],
            "image/png": "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\n"
          },
          "metadata": {}
        }
      ]
    },
    {
      "cell_type": "code",
      "source": [
        "print(\"Model slope:    \", model.coef_[0])\n",
        "print(\"Model intercept:\", model.intercept_)"
      ],
      "metadata": {
        "colab": {
          "base_uri": "https://localhost:8080/"
        },
        "id": "h924WUfZQZJw",
        "outputId": "c1892758-fee6-4552-acfe-6233ea0cf65e"
      },
      "execution_count": null,
      "outputs": [
        {
          "output_type": "stream",
          "name": "stdout",
          "text": [
            "Model slope:     0.0016556880500928142\n",
            "Model intercept: 0.2750402996602799\n"
          ]
>>>>>>> 868f0971acfbfd87c936680bc1e61cd9923209cc
        }
      ]
    }
  ]
}